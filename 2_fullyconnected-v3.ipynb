{
 "metadata": {
  "colab": {
   "default_view": {},
   "name": "2_fullyconnected.ipynb",
   "provenance": [],
   "version": "0.3.2",
   "views": {}
  },
  "name": "",
  "signature": "sha256:4de65017cfdec82d1db5871a7179777d52c433cb97876a7a21a08fb0ee932325"
 },
 "nbformat": 3,
 "nbformat_minor": 0,
 "worksheets": [
  {
   "cells": [
    {
     "cell_type": "markdown",
     "metadata": {
      "colab_type": "text",
      "id": "kR-4eNdK6lYS"
     },
     "source": [
      "Deep Learning\n",
      "=============\n",
      "\n",
      "Assignment 2\n",
      "------------\n",
      "\n",
      "Previously in `1_notmnist.ipynb`, we created a pickle with formatted datasets for training, development and testing on the [notMNIST dataset](http://yaroslavvb.blogspot.com/2011/09/notmnist-dataset.html).\n",
      "\n",
      "The goal of this assignment is to progressively train deeper and more accurate models using TensorFlow."
     ]
    },
    {
     "cell_type": "code",
     "collapsed": false,
     "input": [
      "# These are all the modules we'll be using later. Make sure you can import them\n",
      "# before proceeding further.\n",
      "from __future__ import print_function\n",
      "import numpy as np\n",
      "import tensorflow as tf\n",
      "from six.moves import cPickle as pickle\n",
      "from six.moves import range"
     ],
     "language": "python",
     "metadata": {
      "cellView": "both",
      "colab": {
       "autoexec": {
        "startup": false,
        "wait_interval": 0
       }
      },
      "colab_type": "code",
      "id": "JLpLa8Jt7Vu4"
     },
     "outputs": [],
     "prompt_number": 1
    },
    {
     "cell_type": "markdown",
     "metadata": {
      "colab_type": "text",
      "id": "1HrCK6e17WzV"
     },
     "source": [
      "First reload the data we generated in `1_notmnist.ipynb`."
     ]
    },
    {
     "cell_type": "code",
     "collapsed": false,
     "input": [
      "pickle_file = 'notMNIST.pickle'\n",
      "\n",
      "with open(pickle_file, 'rb') as f:\n",
      "  save = pickle.load(f)\n",
      "  train_dataset = save['train_dataset']\n",
      "  train_labels = save['train_labels']\n",
      "  valid_dataset = save['valid_dataset']\n",
      "  valid_labels = save['valid_labels']\n",
      "  test_dataset = save['test_dataset']\n",
      "  test_labels = save['test_labels']\n",
      "  del save  # hint to help gc free up memory\n",
      "  print('Training set', train_dataset.shape, train_labels.shape)\n",
      "  print('Validation set', valid_dataset.shape, valid_labels.shape)\n",
      "  print('Test set', test_dataset.shape, test_labels.shape)"
     ],
     "language": "python",
     "metadata": {
      "cellView": "both",
      "colab": {
       "autoexec": {
        "startup": false,
        "wait_interval": 0
       },
       "output_extras": [
        {
         "item_id": 1
        }
       ]
      },
      "colab_type": "code",
      "executionInfo": {
       "elapsed": 19456,
       "status": "ok",
       "timestamp": 1449847956073,
       "user": {
        "color": "",
        "displayName": "",
        "isAnonymous": false,
        "isMe": true,
        "permissionId": "",
        "photoUrl": "",
        "sessionId": "0",
        "userId": ""
       },
       "user_tz": 480
      },
      "id": "y3-cj1bpmuxc",
      "outputId": "0ddb1607-1fc4-4ddb-de28-6c7ab7fb0c33"
     },
     "outputs": [
      {
       "output_type": "stream",
       "stream": "stdout",
       "text": [
        "Training set (200000, 28, 28) (200000,)\n",
        "Validation set (10000, 28, 28) (10000,)\n",
        "Test set (10000, 28, 28) (10000,)\n"
       ]
      }
     ],
     "prompt_number": 2
    },
    {
     "cell_type": "markdown",
     "metadata": {
      "colab_type": "text",
      "id": "L7aHrm6nGDMB"
     },
     "source": [
      "Reformat into a shape that's more adapted to the models we're going to train:\n",
      "- data as a flat matrix,\n",
      "- labels as float 1-hot encodings."
     ]
    },
    {
     "cell_type": "code",
     "collapsed": false,
     "input": [
      "image_size = 28\n",
      "num_labels = 10\n",
      "\n",
      "def reformat(dataset, labels):\n",
      "  dataset = dataset.reshape((-1, image_size * image_size)).astype(np.float32)\n",
      "  # Map 0 to [1.0, 0.0, 0.0 ...], 1 to [0.0, 1.0, 0.0 ...]\n",
      "  labels = (np.arange(num_labels) == labels[:,None]).astype(np.float32).reshape(-1, num_labels)\n",
      "  return dataset, labels\n",
      "train_dataset, train_labels = reformat(train_dataset, train_labels)\n",
      "valid_dataset, valid_labels = reformat(valid_dataset, valid_labels)\n",
      "test_dataset, test_labels = reformat(test_dataset, test_labels)\n",
      "print('Training set', train_dataset.shape, train_labels.shape)\n",
      "print('Validation set', valid_dataset.shape, valid_labels.shape)\n",
      "print('Test set', test_dataset.shape, test_labels.shape)"
     ],
     "language": "python",
     "metadata": {
      "cellView": "both",
      "colab": {
       "autoexec": {
        "startup": false,
        "wait_interval": 0
       },
       "output_extras": [
        {
         "item_id": 1
        }
       ]
      },
      "colab_type": "code",
      "executionInfo": {
       "elapsed": 19723,
       "status": "ok",
       "timestamp": 1449847956364,
       "user": {
        "color": "",
        "displayName": "",
        "isAnonymous": false,
        "isMe": true,
        "permissionId": "",
        "photoUrl": "",
        "sessionId": "0",
        "userId": ""
       },
       "user_tz": 480
      },
      "id": "IRSyYiIIGIzS",
      "outputId": "2ba0fc75-1487-4ace-a562-cf81cae82793"
     },
     "outputs": [
      {
       "output_type": "stream",
       "stream": "stdout",
       "text": [
        "Training set (200000, 784) (200000, 10)\n",
        "Validation set (10000, 784) (10000, 10)\n",
        "Test set (10000, 784) (10000, 10)\n"
       ]
      }
     ],
     "prompt_number": 15
    },
    {
     "cell_type": "markdown",
     "metadata": {
      "colab_type": "text",
      "id": "nCLVqyQ5vPPH"
     },
     "source": [
      "We're first going to train a multinomial logistic regression using simple gradient descent.\n",
      "\n",
      "TensorFlow works like this:\n",
      "* First you describe the computation that you want to see performed: what the inputs, the variables, and the operations look like. These get created as nodes over a computation graph. This description is all contained within the block below:\n",
      "\n",
      "      with graph.as_default():\n",
      "          ...\n",
      "\n",
      "* Then you can run the operations on this graph as many times as you want by calling `session.run()`, providing it outputs to fetch from the graph that get returned. This runtime operation is all contained in the block below:\n",
      "\n",
      "      with tf.Session(graph=graph) as session:\n",
      "          ...\n",
      "\n",
      "Let's load all the data into TensorFlow and build the computation graph corresponding to our training:"
     ]
    },
    {
     "cell_type": "code",
     "collapsed": false,
     "input": [
      "# With gradient descent training, even this much data is prohibitive.\n",
      "# Subset the training data for faster turnaround.\n",
      "train_subset = 10000\n",
      "\n",
      "graph = tf.Graph()\n",
      "with graph.as_default():\n",
      "\n",
      "  # Input data.\n",
      "  # Load the training, validation and test data into constants that are\n",
      "  # attached to the graph.\n",
      "  tf_train_dataset = tf.constant(train_dataset[:train_subset, :])\n",
      "  tf_train_labels = tf.constant(train_labels[:train_subset])\n",
      "  tf_valid_dataset = tf.constant(valid_dataset)\n",
      "  tf_test_dataset = tf.constant(test_dataset)\n",
      "  \n",
      "  # Variables.\n",
      "  # These are the parameters that we are going to be training. The weight\n",
      "  # matrix will be initialized using random values following a (truncated)\n",
      "  # normal distribution. The biases get initialized to zero.\n",
      "  weights = tf.Variable(\n",
      "    tf.truncated_normal([image_size * image_size, num_labels]))\n",
      "  biases = tf.Variable(tf.zeros([num_labels]))\n",
      "  \n",
      "  # Training computation.\n",
      "  # We multiply the inputs with the weight matrix, and add biases. We compute\n",
      "  # the softmax and cross-entropy (it's one operation in TensorFlow, because\n",
      "  # it's very common, and it can be optimized). We take the average of this\n",
      "  # cross-entropy across all training examples: that's our loss.\n",
      "  logits = tf.matmul(tf_train_dataset, weights) + biases\n",
      "  loss = tf.reduce_mean(\n",
      "    tf.nn.softmax_cross_entropy_with_logits(labels=tf_train_labels, logits=logits))\n",
      "  \n",
      "  # Optimizer.\n",
      "  # We are going to find the minimum of this loss using gradient descent.\n",
      "  optimizer = tf.train.GradientDescentOptimizer(0.5).minimize(loss)\n",
      "  \n",
      "  # Predictions for the training, validation, and test data.\n",
      "  # These are not part of training, but merely here so that we can report\n",
      "  # accuracy figures as we train.\n",
      "  train_prediction = tf.nn.softmax(logits)\n",
      "  valid_prediction = tf.nn.softmax(\n",
      "    tf.matmul(tf_valid_dataset, weights) + biases)\n",
      "  test_prediction = tf.nn.softmax(tf.matmul(tf_test_dataset, weights) + biases)"
     ],
     "language": "python",
     "metadata": {
      "cellView": "both",
      "colab": {
       "autoexec": {
        "startup": false,
        "wait_interval": 0
       }
      },
      "colab_type": "code",
      "id": "Nfv39qvtvOl_"
     },
     "outputs": [],
     "prompt_number": 16
    },
    {
     "cell_type": "markdown",
     "metadata": {
      "colab_type": "text",
      "id": "KQcL4uqISHjP"
     },
     "source": [
      "Let's run this computation and iterate:"
     ]
    },
    {
     "cell_type": "code",
     "collapsed": false,
     "input": [
      "num_steps = 801\n",
      "\n",
      "def accuracy(predictions, labels):\n",
      "  return (100.0 * np.sum(np.argmax(predictions, 1) == np.argmax(labels, 1)) / predictions.shape[0])\n",
      "\n",
      "with tf.Session(graph=graph) as session:\n",
      "  # This is a one-time operation which ensures the parameters get initialized as\n",
      "  # we described in the graph: random weights for the matrix, zeros for the\n",
      "  # biases. \n",
      "  tf.global_variables_initializer().run()\n",
      "  print('Initialized')\n",
      "  for step in range(num_steps):\n",
      "    # Run the computations. We tell .run() that we want to run the optimizer,\n",
      "    # and get the loss value and the training predictions returned as numpy\n",
      "    # arrays.\n",
      "    _, l, predictions = session.run([optimizer, loss, train_prediction])\n",
      "    if (step % 100 == 0):\n",
      "      print('Loss at step %d: %f' % (step, l))\n",
      "      print('Training accuracy: %.1f%%' % accuracy(\n",
      "        predictions, train_labels[:train_subset, :]))\n",
      "      # Calling .eval() on valid_prediction is basically like calling run(), but\n",
      "      # just to get that one numpy array. Note that it recomputes all its graph\n",
      "      # dependencies.\n",
      "      print('Validation accuracy: %.1f%%' % accuracy(\n",
      "        valid_prediction.eval(), valid_labels))\n",
      "\n",
      "  tst_pred = test_prediction.eval()\n",
      "  print('Test accuracy: %.1f%%' % accuracy(tst_pred, test_labels))"
     ],
     "language": "python",
     "metadata": {
      "cellView": "both",
      "colab": {
       "autoexec": {
        "startup": false,
        "wait_interval": 0
       },
       "output_extras": [
        {
         "item_id": 9
        }
       ]
      },
      "colab_type": "code",
      "executionInfo": {
       "elapsed": 57454,
       "status": "ok",
       "timestamp": 1449847994134,
       "user": {
        "color": "",
        "displayName": "",
        "isAnonymous": false,
        "isMe": true,
        "permissionId": "",
        "photoUrl": "",
        "sessionId": "0",
        "userId": ""
       },
       "user_tz": 480
      },
      "id": "z2cjdenH869W",
      "outputId": "4c037ba1-b526-4d8e-e632-91e2a0333267"
     },
     "outputs": [
      {
       "output_type": "stream",
       "stream": "stdout",
       "text": [
        "Initialized\n",
        "Loss at step 0: 10.955849"
       ]
      },
      {
       "output_type": "stream",
       "stream": "stdout",
       "text": [
        "\n",
        "Training accuracy: 24.5%\n",
        "Validation accuracy: 45.9%\n",
        "Loss at step 100: 1.473472"
       ]
      },
      {
       "output_type": "stream",
       "stream": "stdout",
       "text": [
        "\n",
        "Training accuracy: 81.8%\n",
        "Validation accuracy: 81.3%\n",
        "Loss at step 200: 1.539030"
       ]
      },
      {
       "output_type": "stream",
       "stream": "stdout",
       "text": [
        "\n",
        "Training accuracy: 83.9%\n",
        "Validation accuracy: 83.5%\n",
        "Loss at step 300: 1.787305"
       ]
      },
      {
       "output_type": "stream",
       "stream": "stdout",
       "text": [
        "\n",
        "Training accuracy: 84.4%\n",
        "Validation accuracy: 84.1%\n",
        "Loss at step 400: 2.082193"
       ]
      },
      {
       "output_type": "stream",
       "stream": "stdout",
       "text": [
        "\n",
        "Training accuracy: 84.6%\n",
        "Validation accuracy: 84.3%\n",
        "Loss at step 500: 2.400219"
       ]
      },
      {
       "output_type": "stream",
       "stream": "stdout",
       "text": [
        "\n",
        "Training accuracy: 84.8%\n",
        "Validation accuracy: 84.5%\n",
        "Loss at step 600: 2.732229"
       ]
      },
      {
       "output_type": "stream",
       "stream": "stdout",
       "text": [
        "\n",
        "Training accuracy: 84.8%\n",
        "Validation accuracy: 84.5%\n",
        "Loss at step 700: 3.073196"
       ]
      },
      {
       "output_type": "stream",
       "stream": "stdout",
       "text": [
        "\n",
        "Training accuracy: 84.7%\n",
        "Validation accuracy: 84.6%\n",
        "Loss at step 800: 3.419993"
       ]
      },
      {
       "output_type": "stream",
       "stream": "stdout",
       "text": [
        "\n",
        "Training accuracy: 84.7%\n",
        "Validation accuracy: 84.6%\n",
        "Test accuracy: 84.2%\n"
       ]
      }
     ],
     "prompt_number": 18
    },
    {
     "cell_type": "markdown",
     "metadata": {
      "colab_type": "text",
      "id": "x68f-hxRGm3H"
     },
     "source": [
      "Let's now switch to stochastic gradient descent training instead, which is much faster.\n",
      "\n",
      "The graph will be similar, except that instead of holding all the training data into a constant node, we create a `Placeholder` node which will be fed actual data at every call of `session.run()`."
     ]
    },
    {
     "cell_type": "code",
     "collapsed": false,
     "input": [
      "batch_size = 128\n",
      "\n",
      "graph = tf.Graph()\n",
      "with graph.as_default():\n",
      "\n",
      "  # Input data. For the training data, we use a placeholder that will be fed\n",
      "  # at run time with a training minibatch.\n",
      "  tf_train_dataset = tf.placeholder(tf.float32,\n",
      "                                    shape=(batch_size, image_size * image_size))\n",
      "  tf_train_labels = tf.placeholder(tf.float32, shape=(batch_size, num_labels))\n",
      "  tf_valid_dataset = tf.constant(valid_dataset)\n",
      "  tf_test_dataset = tf.constant(test_dataset)\n",
      "  \n",
      "  # Variables.\n",
      "  weights = tf.Variable(\n",
      "    tf.truncated_normal([image_size * image_size, num_labels]))\n",
      "  biases = tf.Variable(tf.zeros([num_labels]))\n",
      "  \n",
      "  # Training computation.\n",
      "  logits = tf.matmul(tf_train_dataset, weights) + biases\n",
      "  loss = tf.reduce_mean(\n",
      "    tf.nn.softmax_cross_entropy_with_logits(labels=tf_train_labels, logits=logits))\n",
      "  \n",
      "  # Optimizer.\n",
      "  optimizer = tf.train.GradientDescentOptimizer(0.5).minimize(loss)\n",
      "  \n",
      "  # Predictions for the training, validation, and test data.\n",
      "  train_prediction = tf.nn.softmax(logits)\n",
      "  valid_prediction = tf.nn.softmax(\n",
      "    tf.matmul(tf_valid_dataset, weights) + biases)\n",
      "  test_prediction = tf.nn.softmax(tf.matmul(tf_test_dataset, weights) + biases)"
     ],
     "language": "python",
     "metadata": {
      "cellView": "both",
      "colab": {
       "autoexec": {
        "startup": false,
        "wait_interval": 0
       }
      },
      "colab_type": "code",
      "id": "qhPMzWYRGrzM"
     },
     "outputs": [],
     "prompt_number": 19
    },
    {
     "cell_type": "markdown",
     "metadata": {
      "colab_type": "text",
      "id": "XmVZESmtG4JH"
     },
     "source": [
      "Let's run it:"
     ]
    },
    {
     "cell_type": "code",
     "collapsed": false,
     "input": [
      "num_steps = 3001\n",
      "\n",
      "with tf.Session(graph=graph) as session:\n",
      "  tf.global_variables_initializer().run()\n",
      "  print(\"Initialized\")\n",
      "  for step in range(num_steps):\n",
      "    # Pick an offset within the training data, which has been randomized.\n",
      "    # Note: we could use better randomization across epochs.\n",
      "    offset = (step * batch_size) % (train_labels.shape[0] - batch_size)\n",
      "    # Generate a minibatch.\n",
      "    batch_data = train_dataset[offset:(offset + batch_size), :]\n",
      "    batch_labels = train_labels[offset:(offset + batch_size), :]\n",
      "    # Prepare a dictionary telling the session where to feed the minibatch.\n",
      "    # The key of the dictionary is the placeholder node of the graph to be fed,\n",
      "    # and the value is the numpy array to feed to it.\n",
      "    feed_dict = {tf_train_dataset : batch_data, tf_train_labels : batch_labels}\n",
      "    _, l, predictions = session.run(\n",
      "      [optimizer, loss, train_prediction], feed_dict=feed_dict)\n",
      "    if (step % 500 == 0):\n",
      "      print(\"Minibatch loss at step %d: %f\" % (step, l))\n",
      "      print(\"Minibatch accuracy: %.1f%%\" % accuracy(predictions, batch_labels))\n",
      "      print(\"Validation accuracy: %.1f%%\" % accuracy(\n",
      "        valid_prediction.eval(), valid_labels))\n",
      "  print(\"Test accuracy: %.1f%%\" % accuracy(test_prediction.eval(), test_labels))"
     ],
     "language": "python",
     "metadata": {
      "cellView": "both",
      "colab": {
       "autoexec": {
        "startup": false,
        "wait_interval": 0
       },
       "output_extras": [
        {
         "item_id": 6
        }
       ]
      },
      "colab_type": "code",
      "executionInfo": {
       "elapsed": 66292,
       "status": "ok",
       "timestamp": 1449848003013,
       "user": {
        "color": "",
        "displayName": "",
        "isAnonymous": false,
        "isMe": true,
        "permissionId": "",
        "photoUrl": "",
        "sessionId": "0",
        "userId": ""
       },
       "user_tz": 480
      },
      "id": "FoF91pknG_YW",
      "outputId": "d255c80e-954d-4183-ca1c-c7333ce91d0a"
     },
     "outputs": [
      {
       "output_type": "stream",
       "stream": "stdout",
       "text": [
        "Initialized\n",
        "Minibatch loss at step 0: 15.113395\n",
        "Minibatch accuracy: 14.8%\n",
        "Validation accuracy: 38.5%\n",
        "Minibatch loss at step 500: 1.351962"
       ]
      },
      {
       "output_type": "stream",
       "stream": "stdout",
       "text": [
        "\n",
        "Minibatch accuracy: 85.9%\n",
        "Validation accuracy: 85.5%\n",
        "Minibatch loss at step 1000: 2.043336"
       ]
      },
      {
       "output_type": "stream",
       "stream": "stdout",
       "text": [
        "\n",
        "Minibatch accuracy: 86.7%\n",
        "Validation accuracy: 84.2%\n",
        "Minibatch loss at step 1500: 3.067549"
       ]
      },
      {
       "output_type": "stream",
       "stream": "stdout",
       "text": [
        "\n",
        "Minibatch accuracy: 88.3%\n",
        "Validation accuracy: 84.7%\n",
        "Minibatch loss at step 2000: 6.420586"
       ]
      },
      {
       "output_type": "stream",
       "stream": "stdout",
       "text": [
        "\n",
        "Minibatch accuracy: 86.7%\n",
        "Validation accuracy: 84.5%\n",
        "Minibatch loss at step 2500: 9.149427"
       ]
      },
      {
       "output_type": "stream",
       "stream": "stdout",
       "text": [
        "\n",
        "Minibatch accuracy: 85.9%\n",
        "Validation accuracy: 85.2%\n",
        "Minibatch loss at step 3000: 6.674762"
       ]
      },
      {
       "output_type": "stream",
       "stream": "stdout",
       "text": [
        "\n",
        "Minibatch accuracy: 82.0%\n",
        "Validation accuracy: 86.8%\n",
        "Test accuracy: 86.7%\n"
       ]
      }
     ],
     "prompt_number": 21
    },
    {
     "cell_type": "markdown",
     "metadata": {
      "colab_type": "text",
      "id": "7omWxtvLLxik"
     },
     "source": [
      "---\n",
      "Problem\n",
      "-------\n",
      "\n",
      "Turn the logistic regression example with SGD into a 1-hidden layer neural network with rectified linear units [nn.relu()](https://www.tensorflow.org/versions/r0.7/api_docs/python/nn.html#relu) and 1024 hidden nodes. This model should improve your validation / test accuracy.\n",
      "\n",
      "---"
     ]
    },
    {
     "cell_type": "code",
     "collapsed": false,
     "input": [
      "batch_size = 128\n",
      "relu_size = 1024\n",
      "\n",
      "graph = tf.Graph()\n",
      "with graph.as_default():\n",
      "\n",
      "  # Input data. For the training data, we use a placeholder that will be fed\n",
      "  # at run time with a training minibatch.\n",
      "  tf_train_dataset = tf.placeholder(tf.float32, shape=(batch_size, image_size * image_size))\n",
      "  tf_train_labels = tf.placeholder(tf.float32, shape=(batch_size, num_labels))\n",
      "  tf_valid_dataset = tf.constant(valid_dataset)\n",
      "  tf_test_dataset = tf.constant(test_dataset)\n",
      "  \n",
      "  # Layer 1 computation.\n",
      "  # l1 = tf.nn.relu(tf.matmul(tf_train_dataset, w1) + b1)\n",
      "  w1 = tf.Variable(tf.truncated_normal([image_size * image_size, relu_size]))\n",
      "  b1 = tf.Variable(tf.zeros([relu_size]))\n",
      "\n",
      "  # Layer 2 computation.\n",
      "  w2 = tf.Variable(tf.truncated_normal([relu_size, num_labels]))\n",
      "  b2 = tf.Variable(tf.zeros([num_labels]))\n",
      "    \n",
      "  l2 = tf.matmul(tf.nn.relu(tf.matmul(tf_train_dataset, w1) + b1), w2) + b2\n",
      "  loss = tf.reduce_mean(tf.nn.softmax_cross_entropy_with_logits(labels=tf_train_labels, logits=l2))\n",
      "  \n",
      "  # Optimizer.\n",
      "  optimizer = tf.train.AdagradOptimizer(0.05).minimize(loss)\n",
      "  \n",
      "  # Predictions for the training, validation, and test data.\n",
      "  train_prediction = tf.nn.softmax(l2)\n",
      "  valid_prediction = tf.nn.softmax(tf.matmul(tf.nn.relu(tf.matmul(tf_valid_dataset, w1) + b1), w2) + b2)\n",
      "  test_prediction = tf.nn.softmax(tf.matmul(tf.nn.relu(tf.matmul(tf_test_dataset, w1) + b1), w2) + b2)"
     ],
     "language": "python",
     "metadata": {},
     "outputs": [],
     "prompt_number": 38
    },
    {
     "cell_type": "code",
     "collapsed": false,
     "input": [
      "num_steps = 3001\n",
      "\n",
      "with tf.Session(graph=graph) as session:\n",
      "  tf.global_variables_initializer().run()\n",
      "  print(\"Initialized\")\n",
      "  for step in range(num_steps):\n",
      "    # Pick an offset within the training data, which has been randomized.\n",
      "    # Note: we could use better randomization across epochs.\n",
      "    offset = (step * batch_size) % (train_labels.shape[0] - batch_size)\n",
      "    # Generate a minibatch.\n",
      "    batch_data = train_dataset[offset:(offset + batch_size), :]\n",
      "    batch_labels = train_labels[offset:(offset + batch_size), :]\n",
      "    # Prepare a dictionary telling the session where to feed the minibatch.\n",
      "    # The key of the dictionary is the placeholder node of the graph to be fed,\n",
      "    # and the value is the numpy array to feed to it.\n",
      "    feed_dict = {tf_train_dataset : batch_data, tf_train_labels : batch_labels}\n",
      "    _, l, predictions = session.run(\n",
      "      [optimizer, loss, train_prediction], feed_dict=feed_dict)\n",
      "    if (step % 500 == 0):\n",
      "      print(\"Minibatch loss at step %d: %f\" % (step, l))\n",
      "      print(\"Minibatch accuracy: %.1f%%\" % accuracy(predictions, batch_labels))\n",
      "      print(\"Validation accuracy: %.1f%%\" % accuracy(valid_prediction.eval(), valid_labels))\n",
      "  print(\"Test accuracy: %.1f%%\" % accuracy(test_prediction.eval(), test_labels))"
     ],
     "language": "python",
     "metadata": {},
     "outputs": [
      {
       "output_type": "stream",
       "stream": "stdout",
       "text": [
        "Initialized\n",
        "Minibatch loss at step 0: 402.674011\n",
        "Minibatch accuracy: 4.7%\n",
        "Validation accuracy: 90.2%"
       ]
      },
      {
       "output_type": "stream",
       "stream": "stdout",
       "text": [
        "\n",
        "Minibatch loss at step 500: 140.886078"
       ]
      },
      {
       "output_type": "stream",
       "stream": "stdout",
       "text": [
        "\n",
        "Minibatch accuracy: 97.7%\n",
        "Validation accuracy: 84.0%"
       ]
      },
      {
       "output_type": "stream",
       "stream": "stdout",
       "text": [
        "\n",
        "Minibatch loss at step 1000: 46.871014"
       ]
      },
      {
       "output_type": "stream",
       "stream": "stdout",
       "text": [
        "\n",
        "Minibatch accuracy: 87.5%\n",
        "Validation accuracy: 83.4%"
       ]
      },
      {
       "output_type": "stream",
       "stream": "stdout",
       "text": [
        "\n",
        "Minibatch loss at step 1500: 16.910400"
       ]
      },
      {
       "output_type": "stream",
       "stream": "stdout",
       "text": [
        "\n",
        "Minibatch accuracy: 87.5%\n",
        "Validation accuracy: 91.6%"
       ]
      },
      {
       "output_type": "stream",
       "stream": "stdout",
       "text": [
        "\n",
        "Minibatch loss at step 2000: 44.388016"
       ]
      },
      {
       "output_type": "stream",
       "stream": "stdout",
       "text": [
        "\n",
        "Minibatch accuracy: 96.1%\n",
        "Validation accuracy: 83.3%"
       ]
      },
      {
       "output_type": "stream",
       "stream": "stdout",
       "text": [
        "\n",
        "Minibatch loss at step 2500: 136.174133"
       ]
      },
      {
       "output_type": "stream",
       "stream": "stdout",
       "text": [
        "\n",
        "Minibatch accuracy: 82.0%\n",
        "Validation accuracy: 94.0%"
       ]
      },
      {
       "output_type": "stream",
       "stream": "stdout",
       "text": [
        "\n",
        "Minibatch loss at step 3000: 149.612305"
       ]
      },
      {
       "output_type": "stream",
       "stream": "stdout",
       "text": [
        "\n",
        "Minibatch accuracy: 89.8%\n",
        "Validation accuracy: 94.5%"
       ]
      },
      {
       "output_type": "stream",
       "stream": "stdout",
       "text": [
        "\n",
        "Test accuracy: 93.8%"
       ]
      },
      {
       "output_type": "stream",
       "stream": "stdout",
       "text": [
        "\n"
       ]
      }
     ],
     "prompt_number": 39
    }
   ],
   "metadata": {}
  }
 ]
}